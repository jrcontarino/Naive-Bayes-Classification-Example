{
 "cells": [
  {
   "cell_type": "markdown",
   "metadata": {},
   "source": [
    "# Naive Bayes Classification Email Example"
   ]
  },
  {
   "cell_type": "markdown",
   "metadata": {},
   "source": [
    "## Import Packages and Data"
   ]
  },
  {
   "cell_type": "code",
   "execution_count": 13,
   "metadata": {},
   "outputs": [],
   "source": [
    "from sklearn.datasets import fetch_20newsgroups\n",
    "from sklearn.naive_bayes import MultinomialNB\n",
    "from sklearn.feature_extraction.text import CountVectorizer\n",
    "\n",
    "train_emails = fetch_20newsgroups(categories = ['soc.religion.christian', 'rec.sport.hockey', 'talk.politics.guns'],subset='train', shuffle = True, random_state = 108)\n",
    "test_emails = fetch_20newsgroups(categories = ['soc.religion.christian', 'rec.sport.hockey', 'talk.politics.guns'],subset='test', shuffle = True, random_state = 108)"
   ]
  },
  {
   "cell_type": "markdown",
   "metadata": {},
   "source": [
    "## Inspect Data"
   ]
  },
  {
   "cell_type": "code",
   "execution_count": 21,
   "metadata": {},
   "outputs": [
    {
     "name": "stdout",
     "output_type": "stream",
     "text": [
      "Categories:\n",
      "['rec.sport.hockey', 'soc.religion.christian', 'talk.politics.guns'] \n",
      "\n",
      "Example Email Data: \n",
      "\n",
      "From: PETCH@gvg47.gvg.tek.com (Chuck)\n",
      "Subject: Daily Verse\n",
      "Lines: 5\n",
      "\n",
      "\n",
      "   When he came near the place where the road goes down the Mount of Olives,\n",
      "the whole crowd of disciples began joyfully to praise God in loud voices for\n",
      "all the miracles they had seen: \n",
      "Luke 19:37\n",
      " \n",
      "\n",
      "Example Email Category:\n",
      "soc.religion.christian\n"
     ]
    }
   ],
   "source": [
    "## Print the 2 categories\n",
    "print(\"Categories:\")\n",
    "print(train_emails.target_names, \"\\n\")\n",
    "#print(len(train_emails.data))\n",
    "\n",
    "## Inspect a single data point and it's category\n",
    "print(\"Example Email Data:\", \"\\n\")\n",
    "print(train_emails.data[5], \"\\n\")\n",
    "print(\"Example Email Category:\")\n",
    "print(train_emails.target_names[train_emails.target[5]])"
   ]
  },
  {
   "cell_type": "markdown",
   "metadata": {},
   "source": [
    "## Transform Emails into Lists of Word Counts"
   ]
  },
  {
   "cell_type": "code",
   "execution_count": 15,
   "metadata": {},
   "outputs": [
    {
     "name": "stdout",
     "output_type": "stream",
     "text": [
      "Classifier Score:\n",
      "0.9913867355727821\n"
     ]
    }
   ],
   "source": [
    "## Fit Counter\n",
    "counter = CountVectorizer()\n",
    "counter.fit(test_emails.data + train_emails.data)\n",
    "\n",
    "## Transform data to counter\n",
    "train_counts = counter.transform(train_emails.data)\n",
    "test_counts = counter.transform(test_emails.data)\n",
    "\n",
    "## Fit Classifier\n",
    "classifier = MultinomialNB()\n",
    "classifier.fit(train_counts, train_emails.target)\n",
    "\n",
    "## Score the classifier\n",
    "print(\"Classifier Score:\")\n",
    "print(classifier.score(test_counts, test_emails.target))"
   ]
  },
  {
   "cell_type": "markdown",
   "metadata": {},
   "source": [
    "This classifier is very accurate."
   ]
  }
 ],
 "metadata": {
  "kernelspec": {
   "display_name": "Python 3",
   "language": "python",
   "name": "python3"
  },
  "language_info": {
   "codemirror_mode": {
    "name": "ipython",
    "version": 3
   },
   "file_extension": ".py",
   "mimetype": "text/x-python",
   "name": "python",
   "nbconvert_exporter": "python",
   "pygments_lexer": "ipython3",
   "version": "3.7.6"
  }
 },
 "nbformat": 4,
 "nbformat_minor": 4
}
